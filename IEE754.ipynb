{
 "cells": [
  {
   "cell_type": "markdown",
   "metadata": {},
   "source": [
    "<center><h2>Assignment 1</h2><h2>CSE 360</h2></center>"
   ]
  },
  {
   "cell_type": "code",
   "execution_count": 1,
   "metadata": {},
   "outputs": [
    {
     "name": "stdout",
     "output_type": "stream",
     "text": [
      "292.95\n"
     ]
    }
   ],
   "source": [
    "n = float(input())\n",
    "if n<0:\n",
    "    sign = 1\n",
    "    n = n*(-1)\n",
    "else:\n",
    "    sign = 0"
   ]
  },
  {
   "cell_type": "code",
   "execution_count": 2,
   "metadata": {},
   "outputs": [],
   "source": [
    "def binary(num):\n",
    "    decimal,floating = int(num),num-float(int(num))\n",
    "    result = bin(decimal).lstrip(\"0b\")+ \".\"\n",
    "    for i in range(23):\n",
    "        floating = floating*2\n",
    "        result += list(str(floating).split(\".\"))[0]\n",
    "        floating = floating - float(int(floating))\n",
    "    # print(result)\n",
    "    return result"
   ]
  },
  {
   "cell_type": "code",
   "execution_count": 3,
   "metadata": {},
   "outputs": [
    {
     "name": "stdout",
     "output_type": "stream",
     "text": [
      "exp : 10000111\n",
      "frac : 00100100111100110011001\n",
      "01000011100100100111100110011001\n",
      "32\n"
     ]
    }
   ],
   "source": [
    "bin_num = binary(n)\n",
    "decimal,floating = bin_num.split(\".\")\n",
    "\n",
    "point_index,one_index  = bin_num.find(\".\"),bin_num.find(\"1\")\n",
    "\n",
    "if one_index < point_index:\n",
    "    exponent = point_index-(one_index + 1)\n",
    "else:\n",
    "    exponent = (one_index - point_index)*(-1)\n",
    "exponent += 127\n",
    "exp_bin = bin(exponent).lstrip(\"0b\")\n",
    "if len(exp_bin) < 8:\n",
    "    x = len(exp_bin)\n",
    "    exp_bin = '0'*(8-x) + exp_bin\n",
    "\n",
    "fraction = bin_num[one_index+1:]\n",
    "if \".\" in fraction:\n",
    "    fraction = fraction.replace(\".\",\"\")\n",
    "if len(fraction)<23:\n",
    "    fraction = fraction +\"0\"*(23-len(fraction))\n",
    "elif len(fraction)>23:\n",
    "    fraction = fraction[:23]\n",
    "final_result = str(sign) + exp_bin + fraction\n",
    "print(\"exp : {}\".format(exp_bin))\n",
    "print(\"frac : {}\".format(fraction))\n",
    "print(final_result)\n",
    "print(len(final_result))\n"
   ]
  },
  {
   "cell_type": "code",
   "execution_count": null,
   "metadata": {},
   "outputs": [],
   "source": [
    "\n"
   ]
  }
 ],
 "metadata": {
  "kernelspec": {
   "display_name": "Python 3",
   "language": "python",
   "name": "python3"
  },
  "language_info": {
   "codemirror_mode": {
    "name": "ipython",
    "version": 3
   },
   "file_extension": ".py",
   "mimetype": "text/x-python",
   "name": "python",
   "nbconvert_exporter": "python",
   "pygments_lexer": "ipython3",
   "version": "3.7.6"
  }
 },
 "nbformat": 4,
 "nbformat_minor": 4
}
