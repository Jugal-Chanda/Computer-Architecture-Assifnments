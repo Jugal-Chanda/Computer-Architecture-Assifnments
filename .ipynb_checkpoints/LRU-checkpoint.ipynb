{
 "cells": [
  {
   "cell_type": "code",
   "execution_count": 6,
   "metadata": {},
   "outputs": [],
   "source": [
    "def check(cache,address,row,col,sec,track):\n",
    "    temp = address%row\n",
    "    if address in cache[temp]:\n",
    "        print(\"Hit\")\n",
    "        index = cache[temp].index(address)\n",
    "        track[temp][index] = sec\n",
    "    else:\n",
    "        print(\"miss\")\n",
    "        if 'B' in cache[temp]:\n",
    "            index = cache[temp].index('B')\n",
    "            cache[temp][index] = address\n",
    "            track[temp][index] = sec\n",
    "        else:\n",
    "            print(\"working\")\n",
    "            minv = min(track[temp])\n",
    "            index = track[temp].index(minv)\n",
    "            cache[temp][index] = address\n",
    "            track[temp][index] = sec\n",
    "                    \n",
    "                \n",
    "    "
   ]
  },
  {
   "cell_type": "code",
   "execution_count": 14,
   "metadata": {},
   "outputs": [],
   "source": [
    "def show(arr):\n",
    "    for temp in arr:\n",
    "        print(temp)"
   ]
  },
  {
   "cell_type": "code",
   "execution_count": null,
   "metadata": {},
   "outputs": [],
   "source": [
    "n,m = map(int,input().split())\n",
    "# n,m = 4,8\n",
    "row,col = m//n,n\n",
    "cache = [['B']*col for i in range(row)]\n",
    "track = [[0]*col for i in range(row)] \n",
    "show(cache)\n",
    "\n"
   ]
  },
  {
   "cell_type": "code",
   "execution_count": null,
   "metadata": {},
   "outputs": [],
   "source": [
    "i = 1\n",
    "address = int(input())\n",
    "while(not address== -1):\n",
    "    check(cache,address,row,col,i,track)\n",
    "    show(cache)\n",
    "    address = int(input())\n",
    "    i+=1\n",
    "    "
   ]
  },
  {
   "cell_type": "code",
   "execution_count": null,
   "metadata": {},
   "outputs": [],
   "source": []
  }
 ],
 "metadata": {
  "kernelspec": {
   "display_name": "Python 3",
   "language": "python",
   "name": "python3"
  },
  "language_info": {
   "codemirror_mode": {
    "name": "ipython",
    "version": 3
   },
   "file_extension": ".py",
   "mimetype": "text/x-python",
   "name": "python",
   "nbconvert_exporter": "python",
   "pygments_lexer": "ipython3",
   "version": "3.7.6"
  }
 },
 "nbformat": 4,
 "nbformat_minor": 4
}
