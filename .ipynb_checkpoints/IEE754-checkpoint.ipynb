{
 "cells": [
  {
   "cell_type": "code",
   "execution_count": 36,
   "metadata": {},
   "outputs": [],
   "source": [
    "n = float(input())\n",
    "if n<0:\n",
    "    sign = 1\n",
    "    n = n*(-1)\n",
    "else:\n",
    "    sign = 0"
   ]
  },
  {
   "cell_type": "code",
   "execution_count": 45,
   "metadata": {},
   "outputs": [
    {
     "name": "stdout",
     "output_type": "stream",
     "text": [
      "110110.\n",
      "110110.01001100110011001100110 length: 30\n",
      "floating 01001100110011001100110 length 23\n",
      "110110.01001100110011001100110\n",
      "10110010011001100110011\n",
      "exp : 10000100\n",
      "frac : 10110010011001100110011\n",
      "01000010010110010011001100110011\n",
      "32\n"
     ]
    }
   ],
   "source": [
    "bin_num = binary(n)\n",
    "decimal,floating = bin_num.split(\".\")\n",
    "\n",
    "point_index,one_index  = bin_num.find(\".\"),bin_num.find(\"1\")\n",
    "\n",
    "if one_index < point_index:\n",
    "    exponent = point_index-(one_index + 1)\n",
    "else:\n",
    "    exponent = (one_index - point_index)*(-1)\n",
    "exponent += 127\n",
    "exp_bin = bin(exponent).lstrip(\"0b\")\n",
    "if len(exp_bin) < 8:\n",
    "    x = len(exp_bin)\n",
    "    exp_bin = '0'*(8-x) + exp_bin\n",
    "\n",
    "fraction = bin_num[one_index+1:]\n",
    "if \".\" in fraction:\n",
    "    fraction = fraction.replace(\".\",\"\")\n",
    "if len(fraction)<23:\n",
    "    fraction = fraction + \"*\"+\"0\"*(23-len(fraction))\n",
    "elif len(fraction)>23:\n",
    "    fraction = fraction[:23]\n",
    "final_result = str(sign) + exp_bin + fraction\n",
    "print(\"exp : {}\".format(exp_bin))\n",
    "print(\"frac : {}\".format(fraction))\n",
    "print(final_result)\n",
    "print(len(final_result))\n"
   ]
  },
  {
   "cell_type": "code",
   "execution_count": 38,
   "metadata": {},
   "outputs": [],
   "source": [
    "def binary(num):\n",
    "    decimal,floating = int(num),num-float(int(num))\n",
    "    result = bin(decimal).lstrip(\"0b\")+ \".\"\n",
    "    for i in range(23):\n",
    "        floating = floating*2\n",
    "        result += list(str(floating).split(\".\"))[0]\n",
    "        floating = floating - float(int(floating))\n",
    "    # print(result)\n",
    "    return result"
   ]
  },
  {
   "cell_type": "code",
   "execution_count": 39,
   "metadata": {},
   "outputs": [
    {
     "data": {
      "text/plain": [
       "6"
      ]
     },
     "execution_count": 39,
     "metadata": {},
     "output_type": "execute_result"
    }
   ],
   "source": [
    "first_one = \"0000.010\".find(\"1\")\n",
    "first_one"
   ]
  },
  {
   "cell_type": "code",
   "execution_count": 40,
   "metadata": {},
   "outputs": [
    {
     "data": {
      "text/plain": [
       "'0000'"
      ]
     },
     "execution_count": 40,
     "metadata": {},
     "output_type": "execute_result"
    }
   ],
   "source": [
    "\"\"\"\n",
    "\n",
    "1010.010\n",
    "one_index = 0\n",
    "point_index = 5\n",
    "\n",
    "exponent = 5-1 = 4\n",
    "\n",
    "1.010\n",
    "\n",
    "one_index = 0\n",
    "point_index = 1\n",
    "\n",
    "exponent = 1-1 = 0\n",
    "\n",
    "0.010\n",
    "\n",
    "one_index = 3\n",
    "point_index = 1\n",
    "\n",
    "exponent = 1-1 = 0\n",
    "\n",
    "1111\n",
    "0000\n",
    "\n",
    "\"\"\"\n",
    "'0'*4"
   ]
  },
  {
   "cell_type": "code",
   "execution_count": null,
   "metadata": {},
   "outputs": [],
   "source": []
  }
 ],
 "metadata": {
  "kernelspec": {
   "display_name": "Python 3",
   "language": "python",
   "name": "python3"
  },
  "language_info": {
   "codemirror_mode": {
    "name": "ipython",
    "version": 3
   },
   "file_extension": ".py",
   "mimetype": "text/x-python",
   "name": "python",
   "nbconvert_exporter": "python",
   "pygments_lexer": "ipython3",
   "version": "3.7.6"
  }
 },
 "nbformat": 4,
 "nbformat_minor": 4
}
