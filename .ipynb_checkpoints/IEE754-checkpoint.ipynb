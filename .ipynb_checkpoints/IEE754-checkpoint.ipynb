{
 "cells": [
  {
   "cell_type": "code",
   "execution_count": 5,
   "metadata": {},
   "outputs": [],
   "source": [
    "# n = float(input())\n",
    "n = 10.25\n",
    "if n<0:\n",
    "    sign = 1\n",
    "    n = n*(-1)\n",
    "else:\n",
    "    sign = 0"
   ]
  },
  {
   "cell_type": "code",
   "execution_count": 13,
   "metadata": {},
   "outputs": [
    {
     "name": "stdout",
     "output_type": "stream",
     "text": [
      "10 0.25\n",
      "1010.\n",
      "1010.010\n"
     ]
    },
    {
     "data": {
      "text/plain": [
       "4"
      ]
     },
     "execution_count": 13,
     "metadata": {},
     "output_type": "execute_result"
    }
   ],
   "source": [
    "bin_num = binary(n)\n",
    "print(bin_num)\n",
    "decimal,floating = bin_num.split(\".\")\n",
    "point_index  = bin_num.find(\".\")\n",
    "one_index = bin_num.find(\"1\")\n",
    "if one_index < point_index:\n",
    "    exponent = point_index-(one_index + 1)\n",
    "else:\n",
    "    exponent = (one_index - point_index)*(-1)\n",
    "exponent += 127\n",
    "exp_bin = bin(exponent).lstrip(\"0b\")\n",
    "if len(exp_bin) < 8:\n",
    "    x = len(exp_bin)\n",
    "    exp_bin = '0'*(8-x) + exp_bin\n",
    "\n",
    "fraction = bin_num[one_index+1:]\n",
    "if \".\" in fraction:\n",
    "    fraction = fraction.replace(\".\",\"\")\n",
    "if len(fraction)<23:\n",
    "    fraction = fraction + \"0\"*(23-len(fraction))\n",
    "final_result = sign + exp_bin +\n",
    "\n",
    "\n",
    "    \n"
   ]
  },
  {
   "cell_type": "code",
   "execution_count": 11,
   "metadata": {},
   "outputs": [
    {
     "name": "stdout",
     "output_type": "stream",
     "text": [
      "1010.\n"
     ]
    },
    {
     "data": {
      "text/plain": [
       "'1010.010'"
      ]
     },
     "execution_count": 11,
     "metadata": {},
     "output_type": "execute_result"
    }
   ],
   "source": [
    "def binary(num):\n",
    "    decimal,floating = int(num),num-float(int(num))\n",
    "    result = bin(decimal).lstrip(\"0b\")+ \".\"\n",
    "    print(result)\n",
    "    for i in range(3):\n",
    "        floating = floating*2\n",
    "        result += list(str(floating).split(\".\"))[0]\n",
    "        floating = floating - float(int(floating))\n",
    "    # print(result)\n",
    "    return result"
   ]
  },
  {
   "cell_type": "code",
   "execution_count": 17,
   "metadata": {},
   "outputs": [
    {
     "data": {
      "text/plain": [
       "6"
      ]
     },
     "execution_count": 17,
     "metadata": {},
     "output_type": "execute_result"
    }
   ],
   "source": [
    "first_one = \"0000.010\".find(\"1\")\n",
    "first_one"
   ]
  },
  {
   "cell_type": "code",
   "execution_count": 18,
   "metadata": {},
   "outputs": [
    {
     "data": {
      "text/plain": [
       "'0000'"
      ]
     },
     "execution_count": 18,
     "metadata": {},
     "output_type": "execute_result"
    }
   ],
   "source": [
    "\"\"\"\n",
    "\n",
    "1010.010\n",
    "one_index = 0\n",
    "point_index = 5\n",
    "\n",
    "exponent = 5-1 = 4\n",
    "\n",
    "1.010\n",
    "\n",
    "one_index = 0\n",
    "point_index = 1\n",
    "\n",
    "exponent = 1-1 = 0\n",
    "\n",
    "0.010\n",
    "\n",
    "one_index = 3\n",
    "point_index = 1\n",
    "\n",
    "exponent = 1-1 = 0\n",
    "\n",
    "1111\n",
    "0000\n",
    "\n",
    "\"\"\"\n",
    "'0'*4"
   ]
  },
  {
   "cell_type": "code",
   "execution_count": null,
   "metadata": {},
   "outputs": [],
   "source": []
  }
 ],
 "metadata": {
  "kernelspec": {
   "display_name": "Python 3",
   "language": "python",
   "name": "python3"
  },
  "language_info": {
   "codemirror_mode": {
    "name": "ipython",
    "version": 3
   },
   "file_extension": ".py",
   "mimetype": "text/x-python",
   "name": "python",
   "nbconvert_exporter": "python",
   "pygments_lexer": "ipython3",
   "version": "3.7.6"
  }
 },
 "nbformat": 4,
 "nbformat_minor": 4
}
